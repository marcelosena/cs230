{
  "nbformat": 4,
  "nbformat_minor": 0,
  "metadata": {
    "colab": {
      "name": "CS230_Project.ipynb",
      "provenance": [],
      "collapsed_sections": [],
      "toc_visible": true,
      "mount_file_id": "1xSzOQBrR_0LVntqoF0CyD-iNhjIJMG4I",
      "authorship_tag": "ABX9TyOiezl7FRSfcHKzvAO8ybZA",
      "include_colab_link": true
    },
    "kernelspec": {
      "name": "python3",
      "display_name": "Python 3"
    },
    "accelerator": "GPU"
  },
  "cells": [
    {
      "cell_type": "markdown",
      "metadata": {
        "id": "view-in-github",
        "colab_type": "text"
      },
      "source": [
        "<a href=\"https://colab.research.google.com/github/marcelosena/cs230/blob/master/CS230_Project.ipynb\" target=\"_parent\"><img src=\"https://colab.research.google.com/assets/colab-badge.svg\" alt=\"Open In Colab\"/></a>"
      ]
    },
    {
      "cell_type": "code",
      "metadata": {
        "id": "-NYwQ14afur7",
        "colab_type": "code",
        "colab": {}
      },
      "source": [
        "import numpy as np\n",
        "import sys, os, pickle, time\n",
        "\n",
        "import tensorflow.compat.v2 as tf\n",
        "from tensorflow import keras\n",
        "from tensorflow.keras.layers import (Input, Flatten, Dense, Conv2D, MaxPool2D,\n",
        "                                GlobalAveragePooling2D, Activation, BatchNormalization,\n",
        "                                Dropout, GRU, Bidirectional, Reshape, Lambda)\n",
        "from tensorflow.keras import backend as K\n",
        "import sys, os, pickle, time"
      ],
      "execution_count": 0,
      "outputs": []
    },
    {
      "cell_type": "code",
      "metadata": {
        "id": "T_ChPo7H5Ckw",
        "colab_type": "code",
        "outputId": "95b4fd9a-8b74-44cb-aaba-6aff8f775cdf",
        "colab": {
          "base_uri": "https://localhost:8080/",
          "height": 153
        }
      },
      "source": [
        "!git clone https://github.com/marcelosena/cs230\n",
        "!unzip cs230/CS230OCR/ProcessedData/KerasReady0.zip -d cs230/CS230OCR/ProcessedData/\n",
        "sys.path.append('/content/cs230/CS230OCR/NeuralNet')"
      ],
      "execution_count": 0,
      "outputs": [
        {
          "output_type": "stream",
          "text": [
            "Cloning into 'cs230'...\n",
            "remote: Enumerating objects: 70, done.\u001b[K\n",
            "remote: Counting objects: 100% (70/70), done.\u001b[K\n",
            "remote: Compressing objects: 100% (52/52), done.\u001b[K\n",
            "remote: Total 70 (delta 15), reused 58 (delta 11), pack-reused 0\u001b[K\n",
            "Unpacking objects: 100% (70/70), done.\n",
            "Archive:  cs230/CS230OCR/ProcessedData/KerasReady0.zip\n",
            "  inflating: cs230/CS230OCR/ProcessedData/KerasReady0.npy  \n"
          ],
          "name": "stdout"
        }
      ]
    },
    {
      "cell_type": "code",
      "metadata": {
        "id": "gP_bbeRBDOG-",
        "colab_type": "code",
        "outputId": "7fd9c163-e81c-4351-a9bf-42e910260bc1",
        "colab": {
          "base_uri": "https://localhost:8080/",
          "height": 34
        }
      },
      "source": [
        "path = '/content/cs230/CS230OCR/'\n",
        "from utils.inputFinland import loadImgsWithLabels, DataGen\n",
        "from utils.BasicConfig import (BATCH_SIZE, FULLCHARDICT,  INPUTSHAPE, LOGDIR, SAVEDIR)\n",
        "from utils.Callbacks import VizCallback\n",
        "gpus = tf.config.experimental.list_physical_devices('GPU')\n",
        "for gpu in gpus:\n",
        "  tf.config.experimental.set_memory_growth(gpu, True)\n",
        "  logical_gpus = tf.config.experimental.list_logical_devices('GPU')\n",
        "  print(len(gpus), \"Physical GPUs,\", len(logical_gpus), \"Logical GPUs\")"
      ],
      "execution_count": 0,
      "outputs": [
        {
          "output_type": "stream",
          "text": [
            "1 Physical GPUs, 1 Logical GPUs\n"
          ],
          "name": "stdout"
        }
      ]
    },
    {
      "cell_type": "markdown",
      "metadata": {
        "id": "EBr4ZS_3C1uI",
        "colab_type": "text"
      },
      "source": [
        "Downloading the large keras dataset through google drive"
      ]
    },
    {
      "cell_type": "code",
      "metadata": {
        "id": "nxenOGIDgzsZ",
        "colab_type": "code",
        "outputId": "730498cd-a886-49b3-d7ea-be931f3a0673",
        "colab": {
          "base_uri": "https://localhost:8080/",
          "height": 122
        }
      },
      "source": [
        "from google.colab import drive\n",
        "drive.mount('/content/gdrive')"
      ],
      "execution_count": 0,
      "outputs": [
        {
          "output_type": "stream",
          "text": [
            "Go to this URL in a browser: https://accounts.google.com/o/oauth2/auth?client_id=947318989803-6bn6qk8qdgf4n4g3pfee6491hc0brc4i.apps.googleusercontent.com&redirect_uri=urn%3aietf%3awg%3aoauth%3a2.0%3aoob&response_type=code&scope=email%20https%3a%2f%2fwww.googleapis.com%2fauth%2fdocs.test%20https%3a%2f%2fwww.googleapis.com%2fauth%2fdrive%20https%3a%2f%2fwww.googleapis.com%2fauth%2fdrive.photos.readonly%20https%3a%2f%2fwww.googleapis.com%2fauth%2fpeopleapi.readonly\n",
            "\n",
            "Enter your authorization code:\n",
            "··········\n",
            "Mounted at /content/gdrive\n"
          ],
          "name": "stdout"
        }
      ]
    },
    {
      "cell_type": "code",
      "metadata": {
        "id": "kGvZGUZwg_9M",
        "colab_type": "code",
        "outputId": "24d055fa-a6f8-4615-f195-85af33503fe9",
        "colab": {
          "base_uri": "https://localhost:8080/",
          "height": 51
        }
      },
      "source": [
        "!unzip 'gdrive/My Drive/CS230/Keras_largeData/KerasReadyFull0.zip' -d cs230/CS230OCR/ProcessedData/"
      ],
      "execution_count": 0,
      "outputs": [
        {
          "output_type": "stream",
          "text": [
            "Archive:  gdrive/My Drive/CS230/Keras_largeData/KerasReadyFull0.zip\n",
            "  inflating: cs230/CS230OCR/ProcessedData/KerasReadyFull0.npy  \n"
          ],
          "name": "stdout"
        }
      ]
    },
    {
      "cell_type": "markdown",
      "metadata": {
        "id": "NvN7s6Y841vT",
        "colab_type": "text"
      },
      "source": [
        "CNN-RNN-CTC"
      ]
    },
    {
      "cell_type": "code",
      "metadata": {
        "id": "i5y7VGW55jud",
        "colab_type": "code",
        "colab": {}
      },
      "source": [
        "BATCH_SIZE = 32\n",
        "IMGWIDTH = 128\n",
        "IMGHEIGHT = 64\n",
        "CHANNELS = 1\n",
        "INPUTSHAPE =  [IMGWIDTH,IMGHEIGHT,1]\n",
        "FULLCHARDICT = {'0':0,'1':1,'2':2,'3':3,'4':4,'5':5,'6':6,'7':7,'8':8,'9':9,'/':10,',':11, '+': 12, '-': 13, ' ': 14}\n",
        "CHARDICT = {'0':0,'1':1,'2':2,'3':3,'4':4,'5':5,'6':6,'7':7,'8':8,'9':9,'/':10,',':11, '+': 12, '-': 13,}\n",
        "INVDICT = {0: '0', 1: '1', 2: '2', 3: '3', 4: '4', 5: '5', 6: '6', 7: '7', 8: '8', 9: '9', 10: '/', 11: ',', 12: '+', 13: '-'}\n",
        "DICTLENGTH = len(CHARDICT) + 1 # for the empty string\n",
        "MAXCHARLENGTH = 6"
      ],
      "execution_count": 0,
      "outputs": []
    },
    {
      "cell_type": "markdown",
      "metadata": {
        "id": "f2v2iX5ddyRR",
        "colab_type": "text"
      },
      "source": [
        "Preparing Finish Dataset"
      ]
    },
    {
      "cell_type": "code",
      "metadata": {
        "id": "zuQKKtnj43wK",
        "colab_type": "code",
        "colab": {}
      },
      "source": [
        "def ctc_lambda_func(args):\n",
        "    y_pred, labels, input_length, label_length = args\n",
        "    # the 2 is critical here since the first couple outputs of the RNN tend to be garbage:\n",
        "    y_pred = y_pred[:, 2:, :]\n",
        "    return K.ctc_batch_cost(labels, y_pred, input_length, label_length)\n",
        "\n",
        "X, Y_label, Y_len,  N = loadImgsWithLabels(True)\n",
        "randomOrder = pickle.load(open(path + f'ProcessedData/orderFull.p', 'rb'))\n",
        "X = X[randomOrder]\n",
        "Y_label = Y_label[randomOrder]\n",
        "Y_len = Y_len[randomOrder]\n",
        "\n",
        "trainID = int(np.ceil(N*0.33))\n",
        "devID = trainID + int(np.ceil((N - trainID)/2))\n",
        "\n",
        "X_train = X[:trainID]\n",
        "Y_label_train = Y_label[:trainID]\n",
        "Y_len_train = Y_len[:trainID]\n",
        "\n",
        "X_dev = X[trainID:devID]\n",
        "Y_label_dev = Y_label[trainID:devID]\n",
        "Y_len_dev = Y_len[trainID:devID]\n",
        "\n",
        "X_test = X[devID:]\n",
        "Y_label_test = Y_label[devID:]\n",
        "Y_len_test = Y_len[devID:]\n",
        "\n",
        "train_dataset = tf.data.Dataset.from_tensor_slices((X_train, Y_label_train)).batch(BATCH_SIZE)\n",
        "dev_dataset = tf.data.Dataset.from_tensor_slices((X_dev, Y_label_dev)).batch(BATCH_SIZE)\n",
        "test_dataset = tf.data.Dataset.from_tensor_slices((X_test, Y_label_test)).batch(BATCH_SIZE)"
      ],
      "execution_count": 0,
      "outputs": []
    },
    {
      "cell_type": "code",
      "metadata": {
        "id": "i1HwKg3VKmlp",
        "colab_type": "code",
        "outputId": "dee4ab41-a3f3-44e5-a136-cd3a03a37e8d",
        "colab": {
          "base_uri": "https://localhost:8080/",
          "height": 235
        }
      },
      "source": [
        "from matplotlib import pyplot as plt\n",
        "\n",
        "plt.imshow(X_test[834,:,:,0].T, cmap='Greys')\n",
        "plt.show()\n",
        "print(Y_label_test[834])\n",
        "\n",
        "# try all other channels being zeros or ones"
      ],
      "execution_count": 0,
      "outputs": [
        {
          "output_type": "display_data",
          "data": {
            "image/png": "[encoded data removed]",
            "text/plain": [
              "<Figure size 432x288 with 1 Axes>"
            ]
          },
          "metadata": {
            "tags": [],
            "needs_background": "light"
          }
        },
        {
          "output_type": "stream",
          "text": [
            "[13. -1. -1. -1. -1. -1.]\n"
          ],
          "name": "stdout"
        }
      ]
    },
    {
      "cell_type": "markdown",
      "metadata": {
        "id": "t_hDQUD_6twh",
        "colab_type": "text"
      },
      "source": [
        "Model Specification"
      ]
    },
    {
      "cell_type": "code",
      "metadata": {
        "id": "uGRcX9uct3PG",
        "colab_type": "code",
        "outputId": "09484115-4e8f-40f7-e8a6-d694799ce111",
        "colab": {
          "base_uri": "https://localhost:8080/",
          "height": 935
        }
      },
      "source": [
        "# Transer Learning portion\n",
        "\n",
        "INPUTSHAPE_CHAN3 =  [IMGWIDTH,IMGHEIGHT,3]\n",
        "X_train_CHAN3 = np.repeat(X_train, 3, -1)\n",
        "\n",
        "# from tensorflow.keras.applications.vgg16 import VGG16\n",
        "# base_model = keras.applications.ResNet50(\n",
        "base_model = keras.applications.VGG19(\n",
        "    weights='imagenet',  # Load weights pre-trained on ImageNet.\n",
        "    input_shape= INPUTSHAPE_CHAN3,\n",
        "    include_top=False)\n",
        "base_model.trainable = False\n",
        "base_model.summary()\n",
        "# print(base_model.get_layer(\"conv5_block3_out\").output_shape)\n",
        "# inputs = Input(name='the_input', shape=INPUTSHAPE_CHAN3)\n",
        "# inputs = base_model(inputs, training=False)\n",
        "# # # converts the output of pre-trained CNN for RGB images to grayscale\n",
        "# inputs = Lambda(lambda x : x[:,:,:,0])(inputs)\n",
        "# print(tf.shape(inputs))\n"
      ],
      "execution_count": 0,
      "outputs": [
        {
          "output_type": "stream",
          "text": [
            "Downloading data from https://storage.googleapis.com/tensorflow/keras-applications/vgg19/vgg19_weights_tf_dim_ordering_tf_kernels_notop.h5\n",
            "80142336/80134624 [==============================] - 1s 0us/step\n",
            "Model: \"vgg19\"\n",
            "_________________________________________________________________\n",
            "Layer (type)                 Output Shape              Param #   \n",
            "=================================================================\n",
            "input_1 (InputLayer)         [(None, 128, 64, 3)]      0         \n",
            "_________________________________________________________________\n",
            "block1_conv1 (Conv2D)        (None, 128, 64, 64)       1792      \n",
            "_________________________________________________________________\n",
            "block1_conv2 (Conv2D)        (None, 128, 64, 64)       36928     \n",
            "_________________________________________________________________\n",
            "block1_pool (MaxPooling2D)   (None, 64, 32, 64)        0         \n",
            "_________________________________________________________________\n",
            "block2_conv1 (Conv2D)        (None, 64, 32, 128)       73856     \n",
            "_________________________________________________________________\n",
            "block2_conv2 (Conv2D)        (None, 64, 32, 128)       147584    \n",
            "_________________________________________________________________\n",
            "block2_pool (MaxPooling2D)   (None, 32, 16, 128)       0         \n",
            "_________________________________________________________________\n",
            "block3_conv1 (Conv2D)        (None, 32, 16, 256)       295168    \n",
            "_________________________________________________________________\n",
            "block3_conv2 (Conv2D)        (None, 32, 16, 256)       590080    \n",
            "_________________________________________________________________\n",
            "block3_conv3 (Conv2D)        (None, 32, 16, 256)       590080    \n",
            "_________________________________________________________________\n",
            "block3_conv4 (Conv2D)        (None, 32, 16, 256)       590080    \n",
            "_________________________________________________________________\n",
            "block3_pool (MaxPooling2D)   (None, 16, 8, 256)        0         \n",
            "_________________________________________________________________\n",
            "block4_conv1 (Conv2D)        (None, 16, 8, 512)        1180160   \n",
            "_________________________________________________________________\n",
            "block4_conv2 (Conv2D)        (None, 16, 8, 512)        2359808   \n",
            "_________________________________________________________________\n",
            "block4_conv3 (Conv2D)        (None, 16, 8, 512)        2359808   \n",
            "_________________________________________________________________\n",
            "block4_conv4 (Conv2D)        (None, 16, 8, 512)        2359808   \n",
            "_________________________________________________________________\n",
            "block4_pool (MaxPooling2D)   (None, 8, 4, 512)         0         \n",
            "_________________________________________________________________\n",
            "block5_conv1 (Conv2D)        (None, 8, 4, 512)         2359808   \n",
            "_________________________________________________________________\n",
            "block5_conv2 (Conv2D)        (None, 8, 4, 512)         2359808   \n",
            "_________________________________________________________________\n",
            "block5_conv3 (Conv2D)        (None, 8, 4, 512)         2359808   \n",
            "_________________________________________________________________\n",
            "block5_conv4 (Conv2D)        (None, 8, 4, 512)         2359808   \n",
            "_________________________________________________________________\n",
            "block5_pool (MaxPooling2D)   (None, 4, 2, 512)         0         \n",
            "=================================================================\n",
            "Total params: 20,024,384\n",
            "Trainable params: 0\n",
            "Non-trainable params: 20,024,384\n",
            "_________________________________________________________________\n"
          ],
          "name": "stdout"
        }
      ]
    },
    {
      "cell_type": "code",
      "metadata": {
        "id": "qtT05PpvxqCr",
        "colab_type": "code",
        "outputId": "2e277f35-71f9-4ea3-b1fb-b19e34d67524",
        "colab": {
          "base_uri": "https://localhost:8080/",
          "height": 130
        }
      },
      "source": [
        "## NOTE: SEQUENTIAL MODEL NOT APPROPRIATE FOR RESNET TYPE MODELS\n",
        "\n",
        "tiling = [1] * 4 \n",
        "tiling[-1] *= 3\n",
        "\n",
        "model = keras.Sequential()\n",
        "model.add(keras.Input(name = \"the_input\", shape=INPUTSHAPE))\n",
        "model.add(Lambda(lambda x : keras.backend.tile(x, tiling))\n",
        "model.add(keras.layers(base_model.layers[0]))\n",
        "model.add(base_model.layers[1])\n",
        "model.add(base_model.layers[2])\n",
        "model.add(base_model.layers[3])\n",
        "model.add(base_model.layers[4])"
      ],
      "execution_count": 0,
      "outputs": [
        {
          "output_type": "error",
          "ename": "SyntaxError",
          "evalue": "ignored",
          "traceback": [
            "\u001b[0;36m  File \u001b[0;32m\"<ipython-input-10-d4e422f856c8>\"\u001b[0;36m, line \u001b[0;32m9\u001b[0m\n\u001b[0;31m    model.add(keras.layers(base_model.layers[0]))\u001b[0m\n\u001b[0m        ^\u001b[0m\n\u001b[0;31mSyntaxError\u001b[0m\u001b[0;31m:\u001b[0m invalid syntax\n"
          ]
        }
      ]
    },
    {
      "cell_type": "code",
      "metadata": {
        "id": "-7sW_59_w7pk",
        "colab_type": "code",
        "outputId": "c2eaab41-fadc-4dab-a070-966cc8c77e08",
        "colab": {
          "base_uri": "https://localhost:8080/",
          "height": 173
        }
      },
      "source": [
        "################################################\n",
        "#%%\n",
        "# Layer params:   Filts K  Padding  Name\n",
        "layer_params = [ [  64, 7, 'same',  'conv1'],\n",
        "                 [  64, 5, 'same',  'conv2'],\n",
        "                 [ 128, 3, 'same',  'conv3'],\n",
        "                 [ 128, 3, 'same',  'conv4'],\n",
        "                 [ 256, 3, 'same',  'conv5'],\n",
        "                 [ 256, 3, 'same',  'conv6'],\n",
        "                 # [ 512, 3, 'same',  'conv7'],\n",
        "                 # [ 512, 3, 'same',  'conv8'],\n",
        "                 # [ 1024, 3, 'same',  'conv9'],\n",
        "                 # [ 1024, 3, 'same',  'conv10'],\n",
        "                 # [ 1024, 3, 'same',  'conv11'],\n",
        "                 ]\n",
        "wherePool = [1,3,5]\n",
        "\n",
        "# Network parameters\n",
        "kernel_size = (3, 3)\n",
        "pool_size = (2,2)\n",
        "denseSize = 128\n",
        "rnn_size = 256\n",
        "act = 'relu'\n",
        "minibatch_size = BATCH_SIZE\n",
        "\n",
        "### Transfer-Learned Conv-NN ###\n",
        "tiling = [1] * 4    # 4 dimensions: B, H, W, C\n",
        "tiling[-1] *= 3\n",
        "inputs = Input(name='the_input', shape=INPUTSHAPE)\n",
        "inner = keras.backend.tile(inputs, tiling)\n",
        "\n",
        "# inner = base_model(inner)\n",
        "\n",
        "# # only the first conv-nn part\n",
        "l1 = base_model.layers[0]\n",
        "l2 = base_model.layers[1]\n",
        "l3 = base_model.layers[2]\n",
        "l4 = base_model.layers[3]\n",
        "l5 = base_model.layers[4]\n",
        "l1.set_weights = l1.get_weights()\n",
        "l2.set_weights = l2.get_weights()\n",
        "l3.set_weights = l3.get_weights()\n",
        "l4.set_weights = l4.get_weights()\n",
        "l5.set_weights = l5.get_weights()\n",
        "\n",
        "# # Setting layers to non-trainable\n",
        "retrain = False\n",
        "l1.trainable = retrain\n",
        "l2.trainable = retrain\n",
        "l3.trainable = retrain\n",
        "l4.trainable = retrain\n",
        "l5.trainable = retrain\n",
        "inner = l1(inner)\n",
        "inner = l2(inner)\n",
        "inner = l3(inner)\n",
        "inner = l4(inner)\n",
        "inner = l5(inner)\n",
        "\n",
        "# print(len(base_model.layers))\n",
        "# ### all conv-nn parts\n",
        "# for ll in range(len(base_model.layers) - 20):\n",
        "#   if ll != 14 and ll != 17 and ll != 27 and ll != 37 and ll != 45 and ll != 49 and ll != 59 and ll != 69 and ll != 79 and ll != 87 and ll != 91 and ll != 101 and ll != 111:\n",
        "#     tmp_ll = base_model.layers[ll]\n",
        "#     tmp_ll.set_weights = base_model.layers[ll].get_weights()\n",
        "#     tmp_ll.trainable = retrain\n",
        "#     inner = tmp_ll(inner)\n",
        "\n",
        "# # converts the grayscale images to 3-channel amenable CNN\n",
        "# inner = Lambda(lambda x : np.repeat(x,3,-1))(inputs) # this does not work, need to use proper Keras syntax/functions\n",
        "\n",
        "# # converts the output of pre-trained CNN for RGB images to grayscale\n",
        "# inner = Lambda(lambda x : x[:,:,:,0])(inputs)\n",
        "\n",
        "# ### Our Conv-NN ###\n",
        "# inputs = Input(name='the_input', shape=INPUTSHAPE)\n",
        "# layer = layer_params[0]\n",
        "# inner = Conv2D(layer[0], layer[1], strides=(1,1), padding=layer[2], activation=act,\n",
        "#                      use_bias=False, kernel_initializer=\"he_normal\", name=layer[3] )(inputs)\n",
        "# inner = BatchNormalization(momentum=0.95, epsilon=1e-05, center=True, scale=True)(inner)\n",
        "\n",
        "# for i in range(1,len(layer_params)):\n",
        "#     layer = layer_params[i]\n",
        "#     inner = Conv2D(layer[0], layer[1], strides=(1,1), padding=layer[2], activation=act,\n",
        "#                      use_bias=False, kernel_initializer=\"he_normal\", name=layer[3] )(inner)\n",
        "#     inner = BatchNormalization(momentum=0.95, epsilon=1e-05, center=True, scale=True)(inner)\n",
        "\n",
        "#     if i in wherePool:\n",
        "#        inner = MaxPool2D(pool_size=pool_size, strides=(2, 2), padding='same', name=f'pool{i+1}')(inner)\n",
        "\n",
        "# conv_to_rnn_dims = ( IMGWIDTH// (pool_size[0] ** len(wherePool)) ,\n",
        "#                     (IMGHEIGHT  // (pool_size[0] ** len(wherePool))) * layer_params[-1][0]\n",
        "#                    )\n",
        "# print(conv_to_rnn_dims)\n",
        "\n",
        "inner = inner\n",
        "trOutShape = inner.shape\n",
        "print(trOutShape)\n",
        "conv_to_rnn_dims_transfer = (trOutShape[1], trOutShape[2]*trOutShape[3])\n",
        "print(conv_to_rnn_dims_transfer)\n",
        "\n",
        "inner = Reshape(target_shape=conv_to_rnn_dims_transfer, name='reshape')(inner)\n",
        "inner = Dense(denseSize, activation=act, name='dense1')(inner)\n",
        "inner = BatchNormalization(momentum=0.95, epsilon=1e-05, center=True, scale=True)(inner)\n",
        "\n",
        "# # Two layers of bidirectional GRUs\n",
        "gru_1 = Bidirectional(GRU(rnn_size, return_sequences=True, recurrent_dropout=0.5, dropout=0.5,\n",
        "            kernel_initializer='he_normal', name='gru1'), merge_mode='sum')(inner)\n",
        "gru_2 = Bidirectional(GRU(rnn_size, return_sequences=True, recurrent_dropout=0.5, dropout=0.5,\n",
        "            kernel_initializer='he_normal', name='gru2'))(gru_1)\n",
        "y_pred = Dense(DICTLENGTH, kernel_initializer='he_normal', name='densePredict', activation='softmax')(gru_2)\n",
        "\n",
        "# keras.Model(inputs=inputs, outputs=y_pred).summary()\n",
        "\n",
        "#%%\n",
        "labels = Input(name='the_labels', shape=[MAXCHARLENGTH], dtype='float32')\n",
        "input_length = Input(name='input_length',\n",
        "                     shape=[1], #IMGWIDTH// (pool_size[0] ** len(wherePool)) - 2\n",
        "                     dtype='int64')\n",
        "label_length = Input(name='label_length',\n",
        "                     shape=[1],\n",
        "                     dtype='int64')\n",
        "\n",
        "#CTC loss is implemented in a lambda layer\n",
        "loss_out = Lambda(ctc_lambda_func, output_shape=(1,),\n",
        "    name='ctc')([y_pred, labels, input_length, label_length])\n",
        "\n",
        "sgd = keras.optimizers.SGD(learning_rate=0.02,\n",
        "          decay=1e-6,\n",
        "          momentum=0.9,\n",
        "          nesterov=True)\n",
        "model = keras.Model(inputs=[inputs, labels, input_length, label_length],\n",
        "              outputs=loss_out)\n",
        "\n",
        "# the loss calc occurs elsewhere, so use a dummy lambda func for the loss\n",
        "model.compile(loss={'ctc': lambda y_true, y_pred: y_pred}, optimizer=sgd, metrics=[\"accuracy\"])\n",
        "test_func = K.function([inputs], [y_pred])\n",
        "\n",
        "# model.summary()"
      ],
      "execution_count": 0,
      "outputs": [
        {
          "output_type": "stream",
          "text": [
            "(None, 64, 32, 128)\n",
            "(64, 4096)\n",
            "WARNING:tensorflow:Layer gru1 will not use cuDNN kernel since it doesn't meet the cuDNN kernel criteria. It will use generic GPU kernel as fallback when running on GPU\n",
            "WARNING:tensorflow:Layer gru1 will not use cuDNN kernel since it doesn't meet the cuDNN kernel criteria. It will use generic GPU kernel as fallback when running on GPU\n",
            "WARNING:tensorflow:Layer gru1 will not use cuDNN kernel since it doesn't meet the cuDNN kernel criteria. It will use generic GPU kernel as fallback when running on GPU\n",
            "WARNING:tensorflow:Layer gru2 will not use cuDNN kernel since it doesn't meet the cuDNN kernel criteria. It will use generic GPU kernel as fallback when running on GPU\n",
            "WARNING:tensorflow:Layer gru2 will not use cuDNN kernel since it doesn't meet the cuDNN kernel criteria. It will use generic GPU kernel as fallback when running on GPU\n",
            "WARNING:tensorflow:Layer gru2 will not use cuDNN kernel since it doesn't meet the cuDNN kernel criteria. It will use generic GPU kernel as fallback when running on GPU\n"
          ],
          "name": "stdout"
        }
      ]
    },
    {
      "cell_type": "markdown",
      "metadata": {
        "id": "cIdQ0r_-8Z3R",
        "colab_type": "text"
      },
      "source": [
        "Model Fitting"
      ]
    },
    {
      "cell_type": "code",
      "metadata": {
        "id": "KDmsPM-j8KVS",
        "colab_type": "code",
        "outputId": "6edc0fbf-2959-49ea-9787-a7025e16a639",
        "colab": {
          "base_uri": "https://localhost:8080/",
          "height": 187
        }
      },
      "source": [
        "generatorTrain = DataGen(BATCH_SIZE,  (IMGWIDTH// (pool_size[0] ** len(wherePool))-2),\n",
        "                    X_train, Y_label_train, Y_len_train,  len(X_train), 0)\n",
        "generatorVal = DataGen(BATCH_SIZE,  (IMGWIDTH// (pool_size[0] ** len(wherePool))-2),\n",
        "                    X_dev, Y_label_dev, Y_len_dev,  len(X_dev), 0)\n",
        "generatorTest = DataGen(BATCH_SIZE,  (IMGWIDTH// (pool_size[0] ** len(wherePool))-2),\n",
        "                    X_test, Y_label_test, Y_len_test,  len(X_test), 0)\n",
        "\n",
        "#viz_cb = VizCallback(run_name, test_func, generatorVal.get_batch())\n",
        "# early_stopping= keras.callbacks.EarlyStopping(monitor='val_loss', patience=12, restore_best_weights=True)\n",
        "early_stopping = keras.callbacks.EarlyStopping(monitor='acc', baseline = 0.95, min_delta = 0.1, restore_best_weights=True)\n",
        "checkpoint = keras.callbacks.ModelCheckpoint(\"bestRunning_model.hdf5\",\n",
        "                                            monitor='loss', verbose=1,\n",
        "                                            save_best_only=True, mode='auto')\n",
        "\n",
        "#%%\n",
        "from tensorflow.keras.callbacks import EarlyStopping\n",
        "usualCallback = EarlyStopping()\n",
        "callCheck = [usualCallback, checkpoint]\n",
        "\n",
        "history = model.fit(generatorTrain.get_batch(), epochs=5,\n",
        "                       validation_data = generatorVal.get_batch(),\n",
        "                    validation_steps = len(X_dev)//BATCH_SIZE,\n",
        "                    steps_per_epoch = 20) #,\n",
        "                    # callbacks = [usualCallback])\n",
        "                    #callbacks=[viz_cb, early_stopping, checkpoint],)"
      ],
      "execution_count": 0,
      "outputs": [
        {
          "output_type": "stream",
          "text": [
            "Epoch 1/5\n",
            "20/20 [==============================] - 24s 1s/step - loss: 14.3091 - accuracy: 0.1266 - val_loss: 67.3044 - val_accuracy: 0.0000e+00\n",
            "Epoch 2/5\n",
            "20/20 [==============================] - 23s 1s/step - loss: 12.4490 - accuracy: 0.1562 - val_loss: 157.8416 - val_accuracy: 0.0015\n",
            "Epoch 3/5\n",
            "20/20 [==============================] - 23s 1s/step - loss: 11.3838 - accuracy: 0.1656 - val_loss: 19.0766 - val_accuracy: 0.1192\n",
            "Epoch 4/5\n",
            "20/20 [==============================] - 23s 1s/step - loss: 11.2345 - accuracy: 0.1391 - val_loss: 10.8731 - val_accuracy: 0.1940\n",
            "Epoch 5/5\n",
            "20/20 [==============================] - 23s 1s/step - loss: 10.8547 - accuracy: 0.1609 - val_loss: 13.4791 - val_accuracy: 0.1428\n"
          ],
          "name": "stdout"
        }
      ]
    },
    {
      "cell_type": "code",
      "metadata": {
        "id": "zyRzGZyECe3w",
        "colab_type": "code",
        "outputId": "ae8d683b-0aa0-4144-d6ac-56ea7295d243",
        "colab": {
          "base_uri": "https://localhost:8080/",
          "height": 698
        }
      },
      "source": [
        "# # Test Accuracy\n",
        "# testFig = X_test[1,:,:,:]\n",
        "# testLab = Y_label_test[1,:]\n",
        "# print(X_test.shape)\n",
        "# print(Y_label_test.shape)\n",
        "# _, test_acc = model.evaluate(x = X_test, y = Y_label_test, verbose=-1)"
      ],
      "execution_count": 0,
      "outputs": [
        {
          "output_type": "stream",
          "text": [
            "(2781, 128, 64, 1)\n",
            "(2781, 6)\n"
          ],
          "name": "stdout"
        },
        {
          "output_type": "error",
          "ename": "AssertionError",
          "evalue": "ignored",
          "traceback": [
            "\u001b[0;31m---------------------------------------------------------------------------\u001b[0m",
            "\u001b[0;31mAssertionError\u001b[0m                            Traceback (most recent call last)",
            "\u001b[0;32m<ipython-input-14-b35791d385cf>\u001b[0m in \u001b[0;36m<module>\u001b[0;34m()\u001b[0m\n\u001b[1;32m      4\u001b[0m \u001b[0mprint\u001b[0m\u001b[0;34m(\u001b[0m\u001b[0mX_test\u001b[0m\u001b[0;34m.\u001b[0m\u001b[0mshape\u001b[0m\u001b[0;34m)\u001b[0m\u001b[0;34m\u001b[0m\u001b[0;34m\u001b[0m\u001b[0m\n\u001b[1;32m      5\u001b[0m \u001b[0mprint\u001b[0m\u001b[0;34m(\u001b[0m\u001b[0mY_label_test\u001b[0m\u001b[0;34m.\u001b[0m\u001b[0mshape\u001b[0m\u001b[0;34m)\u001b[0m\u001b[0;34m\u001b[0m\u001b[0;34m\u001b[0m\u001b[0m\n\u001b[0;32m----> 6\u001b[0;31m \u001b[0m_\u001b[0m\u001b[0;34m,\u001b[0m \u001b[0mtest_acc\u001b[0m \u001b[0;34m=\u001b[0m \u001b[0mmodel\u001b[0m\u001b[0;34m.\u001b[0m\u001b[0mevaluate\u001b[0m\u001b[0;34m(\u001b[0m\u001b[0mx\u001b[0m \u001b[0;34m=\u001b[0m \u001b[0mX_test\u001b[0m\u001b[0;34m,\u001b[0m \u001b[0my\u001b[0m \u001b[0;34m=\u001b[0m \u001b[0mY_label_test\u001b[0m\u001b[0;34m,\u001b[0m \u001b[0mverbose\u001b[0m\u001b[0;34m=\u001b[0m\u001b[0;36m1\u001b[0m\u001b[0;34m)\u001b[0m\u001b[0;34m\u001b[0m\u001b[0;34m\u001b[0m\u001b[0m\n\u001b[0m",
            "\u001b[0;32m/usr/local/lib/python3.6/dist-packages/tensorflow/python/keras/engine/training.py\u001b[0m in \u001b[0;36m_method_wrapper\u001b[0;34m(self, *args, **kwargs)\u001b[0m\n\u001b[1;32m     64\u001b[0m   \u001b[0;32mdef\u001b[0m \u001b[0m_method_wrapper\u001b[0m\u001b[0;34m(\u001b[0m\u001b[0mself\u001b[0m\u001b[0;34m,\u001b[0m \u001b[0;34m*\u001b[0m\u001b[0margs\u001b[0m\u001b[0;34m,\u001b[0m \u001b[0;34m**\u001b[0m\u001b[0mkwargs\u001b[0m\u001b[0;34m)\u001b[0m\u001b[0;34m:\u001b[0m\u001b[0;34m\u001b[0m\u001b[0;34m\u001b[0m\u001b[0m\n\u001b[1;32m     65\u001b[0m     \u001b[0;32mif\u001b[0m \u001b[0;32mnot\u001b[0m \u001b[0mself\u001b[0m\u001b[0;34m.\u001b[0m\u001b[0m_in_multi_worker_mode\u001b[0m\u001b[0;34m(\u001b[0m\u001b[0;34m)\u001b[0m\u001b[0;34m:\u001b[0m  \u001b[0;31m# pylint: disable=protected-access\u001b[0m\u001b[0;34m\u001b[0m\u001b[0;34m\u001b[0m\u001b[0m\n\u001b[0;32m---> 66\u001b[0;31m       \u001b[0;32mreturn\u001b[0m \u001b[0mmethod\u001b[0m\u001b[0;34m(\u001b[0m\u001b[0mself\u001b[0m\u001b[0;34m,\u001b[0m \u001b[0;34m*\u001b[0m\u001b[0margs\u001b[0m\u001b[0;34m,\u001b[0m \u001b[0;34m**\u001b[0m\u001b[0mkwargs\u001b[0m\u001b[0;34m)\u001b[0m\u001b[0;34m\u001b[0m\u001b[0;34m\u001b[0m\u001b[0m\n\u001b[0m\u001b[1;32m     67\u001b[0m \u001b[0;34m\u001b[0m\u001b[0m\n\u001b[1;32m     68\u001b[0m     \u001b[0;31m# Running inside `run_distribute_coordinator` already.\u001b[0m\u001b[0;34m\u001b[0m\u001b[0;34m\u001b[0m\u001b[0;34m\u001b[0m\u001b[0m\n",
            "\u001b[0;32m/usr/local/lib/python3.6/dist-packages/tensorflow/python/keras/engine/training.py\u001b[0m in \u001b[0;36mevaluate\u001b[0;34m(self, x, y, batch_size, verbose, sample_weight, steps, callbacks, max_queue_size, workers, use_multiprocessing, return_dict)\u001b[0m\n\u001b[1;32m   1079\u001b[0m                 step_num=step):\n\u001b[1;32m   1080\u001b[0m               \u001b[0mcallbacks\u001b[0m\u001b[0;34m.\u001b[0m\u001b[0mon_test_batch_begin\u001b[0m\u001b[0;34m(\u001b[0m\u001b[0mstep\u001b[0m\u001b[0;34m)\u001b[0m\u001b[0;34m\u001b[0m\u001b[0;34m\u001b[0m\u001b[0m\n\u001b[0;32m-> 1081\u001b[0;31m               \u001b[0mtmp_logs\u001b[0m \u001b[0;34m=\u001b[0m \u001b[0mtest_function\u001b[0m\u001b[0;34m(\u001b[0m\u001b[0miterator\u001b[0m\u001b[0;34m)\u001b[0m\u001b[0;34m\u001b[0m\u001b[0;34m\u001b[0m\u001b[0m\n\u001b[0m\u001b[1;32m   1082\u001b[0m               \u001b[0;31m# Catch OutOfRangeError for Datasets of unknown size.\u001b[0m\u001b[0;34m\u001b[0m\u001b[0;34m\u001b[0m\u001b[0;34m\u001b[0m\u001b[0m\n\u001b[1;32m   1083\u001b[0m               \u001b[0;31m# This blocks until the batch has finished executing.\u001b[0m\u001b[0;34m\u001b[0m\u001b[0;34m\u001b[0m\u001b[0;34m\u001b[0m\u001b[0m\n",
            "\u001b[0;32m/usr/local/lib/python3.6/dist-packages/tensorflow/python/eager/def_function.py\u001b[0m in \u001b[0;36m__call__\u001b[0;34m(self, *args, **kwds)\u001b[0m\n\u001b[1;32m    578\u001b[0m         \u001b[0mxla_context\u001b[0m\u001b[0;34m.\u001b[0m\u001b[0mExit\u001b[0m\u001b[0;34m(\u001b[0m\u001b[0;34m)\u001b[0m\u001b[0;34m\u001b[0m\u001b[0;34m\u001b[0m\u001b[0m\n\u001b[1;32m    579\u001b[0m     \u001b[0;32melse\u001b[0m\u001b[0;34m:\u001b[0m\u001b[0;34m\u001b[0m\u001b[0;34m\u001b[0m\u001b[0m\n\u001b[0;32m--> 580\u001b[0;31m       \u001b[0mresult\u001b[0m \u001b[0;34m=\u001b[0m \u001b[0mself\u001b[0m\u001b[0;34m.\u001b[0m\u001b[0m_call\u001b[0m\u001b[0;34m(\u001b[0m\u001b[0;34m*\u001b[0m\u001b[0margs\u001b[0m\u001b[0;34m,\u001b[0m \u001b[0;34m**\u001b[0m\u001b[0mkwds\u001b[0m\u001b[0;34m)\u001b[0m\u001b[0;34m\u001b[0m\u001b[0;34m\u001b[0m\u001b[0m\n\u001b[0m\u001b[1;32m    581\u001b[0m \u001b[0;34m\u001b[0m\u001b[0m\n\u001b[1;32m    582\u001b[0m     \u001b[0;32mif\u001b[0m \u001b[0mtracing_count\u001b[0m \u001b[0;34m==\u001b[0m \u001b[0mself\u001b[0m\u001b[0;34m.\u001b[0m\u001b[0m_get_tracing_count\u001b[0m\u001b[0;34m(\u001b[0m\u001b[0;34m)\u001b[0m\u001b[0;34m:\u001b[0m\u001b[0;34m\u001b[0m\u001b[0;34m\u001b[0m\u001b[0m\n",
            "\u001b[0;32m/usr/local/lib/python3.6/dist-packages/tensorflow/python/eager/def_function.py\u001b[0m in \u001b[0;36m_call\u001b[0;34m(self, *args, **kwds)\u001b[0m\n\u001b[1;32m    616\u001b[0m       \u001b[0;31m# In this case we have not created variables on the first call. So we can\u001b[0m\u001b[0;34m\u001b[0m\u001b[0;34m\u001b[0m\u001b[0;34m\u001b[0m\u001b[0m\n\u001b[1;32m    617\u001b[0m       \u001b[0;31m# run the first trace but we should fail if variables are created.\u001b[0m\u001b[0;34m\u001b[0m\u001b[0;34m\u001b[0m\u001b[0;34m\u001b[0m\u001b[0m\n\u001b[0;32m--> 618\u001b[0;31m       \u001b[0mresults\u001b[0m \u001b[0;34m=\u001b[0m \u001b[0mself\u001b[0m\u001b[0;34m.\u001b[0m\u001b[0m_stateful_fn\u001b[0m\u001b[0;34m(\u001b[0m\u001b[0;34m*\u001b[0m\u001b[0margs\u001b[0m\u001b[0;34m,\u001b[0m \u001b[0;34m**\u001b[0m\u001b[0mkwds\u001b[0m\u001b[0;34m)\u001b[0m\u001b[0;34m\u001b[0m\u001b[0;34m\u001b[0m\u001b[0m\n\u001b[0m\u001b[1;32m    619\u001b[0m       \u001b[0;32mif\u001b[0m \u001b[0mself\u001b[0m\u001b[0;34m.\u001b[0m\u001b[0m_created_variables\u001b[0m\u001b[0;34m:\u001b[0m\u001b[0;34m\u001b[0m\u001b[0;34m\u001b[0m\u001b[0m\n\u001b[1;32m    620\u001b[0m         raise ValueError(\"Creating variables on a non-first call to a function\"\n",
            "\u001b[0;32m/usr/local/lib/python3.6/dist-packages/tensorflow/python/eager/function.py\u001b[0m in \u001b[0;36m__call__\u001b[0;34m(self, *args, **kwargs)\u001b[0m\n\u001b[1;32m   2417\u001b[0m     \u001b[0;34m\"\"\"Calls a graph function specialized to the inputs.\"\"\"\u001b[0m\u001b[0;34m\u001b[0m\u001b[0;34m\u001b[0m\u001b[0m\n\u001b[1;32m   2418\u001b[0m     \u001b[0;32mwith\u001b[0m \u001b[0mself\u001b[0m\u001b[0;34m.\u001b[0m\u001b[0m_lock\u001b[0m\u001b[0;34m:\u001b[0m\u001b[0;34m\u001b[0m\u001b[0;34m\u001b[0m\u001b[0m\n\u001b[0;32m-> 2419\u001b[0;31m       \u001b[0mgraph_function\u001b[0m\u001b[0;34m,\u001b[0m \u001b[0margs\u001b[0m\u001b[0;34m,\u001b[0m \u001b[0mkwargs\u001b[0m \u001b[0;34m=\u001b[0m \u001b[0mself\u001b[0m\u001b[0;34m.\u001b[0m\u001b[0m_maybe_define_function\u001b[0m\u001b[0;34m(\u001b[0m\u001b[0margs\u001b[0m\u001b[0;34m,\u001b[0m \u001b[0mkwargs\u001b[0m\u001b[0;34m)\u001b[0m\u001b[0;34m\u001b[0m\u001b[0;34m\u001b[0m\u001b[0m\n\u001b[0m\u001b[1;32m   2420\u001b[0m     \u001b[0;32mreturn\u001b[0m \u001b[0mgraph_function\u001b[0m\u001b[0;34m.\u001b[0m\u001b[0m_filtered_call\u001b[0m\u001b[0;34m(\u001b[0m\u001b[0margs\u001b[0m\u001b[0;34m,\u001b[0m \u001b[0mkwargs\u001b[0m\u001b[0;34m)\u001b[0m  \u001b[0;31m# pylint: disable=protected-access\u001b[0m\u001b[0;34m\u001b[0m\u001b[0;34m\u001b[0m\u001b[0m\n\u001b[1;32m   2421\u001b[0m \u001b[0;34m\u001b[0m\u001b[0m\n",
            "\u001b[0;32m/usr/local/lib/python3.6/dist-packages/tensorflow/python/eager/function.py\u001b[0m in \u001b[0;36m_maybe_define_function\u001b[0;34m(self, args, kwargs)\u001b[0m\n\u001b[1;32m   2772\u001b[0m           \u001b[0;32mand\u001b[0m \u001b[0mself\u001b[0m\u001b[0;34m.\u001b[0m\u001b[0minput_signature\u001b[0m \u001b[0;32mis\u001b[0m \u001b[0;32mNone\u001b[0m\u001b[0;34m\u001b[0m\u001b[0;34m\u001b[0m\u001b[0m\n\u001b[1;32m   2773\u001b[0m           and call_context_key in self._function_cache.missed):\n\u001b[0;32m-> 2774\u001b[0;31m         \u001b[0;32mreturn\u001b[0m \u001b[0mself\u001b[0m\u001b[0;34m.\u001b[0m\u001b[0m_define_function_with_shape_relaxation\u001b[0m\u001b[0;34m(\u001b[0m\u001b[0margs\u001b[0m\u001b[0;34m,\u001b[0m \u001b[0mkwargs\u001b[0m\u001b[0;34m)\u001b[0m\u001b[0;34m\u001b[0m\u001b[0;34m\u001b[0m\u001b[0m\n\u001b[0m\u001b[1;32m   2775\u001b[0m \u001b[0;34m\u001b[0m\u001b[0m\n\u001b[1;32m   2776\u001b[0m       \u001b[0mself\u001b[0m\u001b[0;34m.\u001b[0m\u001b[0m_function_cache\u001b[0m\u001b[0;34m.\u001b[0m\u001b[0mmissed\u001b[0m\u001b[0;34m.\u001b[0m\u001b[0madd\u001b[0m\u001b[0;34m(\u001b[0m\u001b[0mcall_context_key\u001b[0m\u001b[0;34m)\u001b[0m\u001b[0;34m\u001b[0m\u001b[0;34m\u001b[0m\u001b[0m\n",
            "\u001b[0;32m/usr/local/lib/python3.6/dist-packages/tensorflow/python/eager/function.py\u001b[0m in \u001b[0;36m_define_function_with_shape_relaxation\u001b[0;34m(self, args, kwargs)\u001b[0m\n\u001b[1;32m   2704\u001b[0m         relaxed_arg_shapes)\n\u001b[1;32m   2705\u001b[0m     graph_function = self._create_graph_function(\n\u001b[0;32m-> 2706\u001b[0;31m         args, kwargs, override_flat_arg_shapes=relaxed_arg_shapes)\n\u001b[0m\u001b[1;32m   2707\u001b[0m     \u001b[0mself\u001b[0m\u001b[0;34m.\u001b[0m\u001b[0m_function_cache\u001b[0m\u001b[0;34m.\u001b[0m\u001b[0marg_relaxed\u001b[0m\u001b[0;34m[\u001b[0m\u001b[0mrank_only_cache_key\u001b[0m\u001b[0;34m]\u001b[0m \u001b[0;34m=\u001b[0m \u001b[0mgraph_function\u001b[0m\u001b[0;34m\u001b[0m\u001b[0;34m\u001b[0m\u001b[0m\n\u001b[1;32m   2708\u001b[0m \u001b[0;34m\u001b[0m\u001b[0m\n",
            "\u001b[0;32m/usr/local/lib/python3.6/dist-packages/tensorflow/python/eager/function.py\u001b[0m in \u001b[0;36m_create_graph_function\u001b[0;34m(self, args, kwargs, override_flat_arg_shapes)\u001b[0m\n\u001b[1;32m   2665\u001b[0m             \u001b[0marg_names\u001b[0m\u001b[0;34m=\u001b[0m\u001b[0marg_names\u001b[0m\u001b[0;34m,\u001b[0m\u001b[0;34m\u001b[0m\u001b[0;34m\u001b[0m\u001b[0m\n\u001b[1;32m   2666\u001b[0m             \u001b[0moverride_flat_arg_shapes\u001b[0m\u001b[0;34m=\u001b[0m\u001b[0moverride_flat_arg_shapes\u001b[0m\u001b[0;34m,\u001b[0m\u001b[0;34m\u001b[0m\u001b[0;34m\u001b[0m\u001b[0m\n\u001b[0;32m-> 2667\u001b[0;31m             capture_by_value=self._capture_by_value),\n\u001b[0m\u001b[1;32m   2668\u001b[0m         \u001b[0mself\u001b[0m\u001b[0;34m.\u001b[0m\u001b[0m_function_attributes\u001b[0m\u001b[0;34m,\u001b[0m\u001b[0;34m\u001b[0m\u001b[0;34m\u001b[0m\u001b[0m\n\u001b[1;32m   2669\u001b[0m         \u001b[0;31m# Tell the ConcreteFunction to clean up its graph once it goes out of\u001b[0m\u001b[0;34m\u001b[0m\u001b[0;34m\u001b[0m\u001b[0;34m\u001b[0m\u001b[0m\n",
            "\u001b[0;32m/usr/local/lib/python3.6/dist-packages/tensorflow/python/framework/func_graph.py\u001b[0m in \u001b[0;36mfunc_graph_from_py_func\u001b[0;34m(name, python_func, args, kwargs, signature, func_graph, autograph, autograph_options, add_control_dependencies, arg_names, op_return_value, collections, capture_by_value, override_flat_arg_shapes)\u001b[0m\n\u001b[1;32m    979\u001b[0m         \u001b[0m_\u001b[0m\u001b[0;34m,\u001b[0m \u001b[0moriginal_func\u001b[0m \u001b[0;34m=\u001b[0m \u001b[0mtf_decorator\u001b[0m\u001b[0;34m.\u001b[0m\u001b[0munwrap\u001b[0m\u001b[0;34m(\u001b[0m\u001b[0mpython_func\u001b[0m\u001b[0;34m)\u001b[0m\u001b[0;34m\u001b[0m\u001b[0;34m\u001b[0m\u001b[0m\n\u001b[1;32m    980\u001b[0m \u001b[0;34m\u001b[0m\u001b[0m\n\u001b[0;32m--> 981\u001b[0;31m       \u001b[0mfunc_outputs\u001b[0m \u001b[0;34m=\u001b[0m \u001b[0mpython_func\u001b[0m\u001b[0;34m(\u001b[0m\u001b[0;34m*\u001b[0m\u001b[0mfunc_args\u001b[0m\u001b[0;34m,\u001b[0m \u001b[0;34m**\u001b[0m\u001b[0mfunc_kwargs\u001b[0m\u001b[0;34m)\u001b[0m\u001b[0;34m\u001b[0m\u001b[0;34m\u001b[0m\u001b[0m\n\u001b[0m\u001b[1;32m    982\u001b[0m \u001b[0;34m\u001b[0m\u001b[0m\n\u001b[1;32m    983\u001b[0m       \u001b[0;31m# invariant: `func_outputs` contains only Tensors, CompositeTensors,\u001b[0m\u001b[0;34m\u001b[0m\u001b[0;34m\u001b[0m\u001b[0;34m\u001b[0m\u001b[0m\n",
            "\u001b[0;32m/usr/local/lib/python3.6/dist-packages/tensorflow/python/eager/def_function.py\u001b[0m in \u001b[0;36mwrapped_fn\u001b[0;34m(*args, **kwds)\u001b[0m\n\u001b[1;32m    439\u001b[0m         \u001b[0;31m# __wrapped__ allows AutoGraph to swap in a converted function. We give\u001b[0m\u001b[0;34m\u001b[0m\u001b[0;34m\u001b[0m\u001b[0;34m\u001b[0m\u001b[0m\n\u001b[1;32m    440\u001b[0m         \u001b[0;31m# the function a weak reference to itself to avoid a reference cycle.\u001b[0m\u001b[0;34m\u001b[0m\u001b[0;34m\u001b[0m\u001b[0;34m\u001b[0m\u001b[0m\n\u001b[0;32m--> 441\u001b[0;31m         \u001b[0;32mreturn\u001b[0m \u001b[0mweak_wrapped_fn\u001b[0m\u001b[0;34m(\u001b[0m\u001b[0;34m)\u001b[0m\u001b[0;34m.\u001b[0m\u001b[0m__wrapped__\u001b[0m\u001b[0;34m(\u001b[0m\u001b[0;34m*\u001b[0m\u001b[0margs\u001b[0m\u001b[0;34m,\u001b[0m \u001b[0;34m**\u001b[0m\u001b[0mkwds\u001b[0m\u001b[0;34m)\u001b[0m\u001b[0;34m\u001b[0m\u001b[0;34m\u001b[0m\u001b[0m\n\u001b[0m\u001b[1;32m    442\u001b[0m     \u001b[0mweak_wrapped_fn\u001b[0m \u001b[0;34m=\u001b[0m \u001b[0mweakref\u001b[0m\u001b[0;34m.\u001b[0m\u001b[0mref\u001b[0m\u001b[0;34m(\u001b[0m\u001b[0mwrapped_fn\u001b[0m\u001b[0;34m)\u001b[0m\u001b[0;34m\u001b[0m\u001b[0;34m\u001b[0m\u001b[0m\n\u001b[1;32m    443\u001b[0m \u001b[0;34m\u001b[0m\u001b[0m\n",
            "\u001b[0;32m/usr/local/lib/python3.6/dist-packages/tensorflow/python/framework/func_graph.py\u001b[0m in \u001b[0;36mwrapper\u001b[0;34m(*args, **kwargs)\u001b[0m\n\u001b[1;32m    966\u001b[0m           \u001b[0;32mexcept\u001b[0m \u001b[0mException\u001b[0m \u001b[0;32mas\u001b[0m \u001b[0me\u001b[0m\u001b[0;34m:\u001b[0m  \u001b[0;31m# pylint:disable=broad-except\u001b[0m\u001b[0;34m\u001b[0m\u001b[0;34m\u001b[0m\u001b[0m\n\u001b[1;32m    967\u001b[0m             \u001b[0;32mif\u001b[0m \u001b[0mhasattr\u001b[0m\u001b[0;34m(\u001b[0m\u001b[0me\u001b[0m\u001b[0;34m,\u001b[0m \u001b[0;34m\"ag_error_metadata\"\u001b[0m\u001b[0;34m)\u001b[0m\u001b[0;34m:\u001b[0m\u001b[0;34m\u001b[0m\u001b[0;34m\u001b[0m\u001b[0m\n\u001b[0;32m--> 968\u001b[0;31m               \u001b[0;32mraise\u001b[0m \u001b[0me\u001b[0m\u001b[0;34m.\u001b[0m\u001b[0mag_error_metadata\u001b[0m\u001b[0;34m.\u001b[0m\u001b[0mto_exception\u001b[0m\u001b[0;34m(\u001b[0m\u001b[0me\u001b[0m\u001b[0;34m)\u001b[0m\u001b[0;34m\u001b[0m\u001b[0;34m\u001b[0m\u001b[0m\n\u001b[0m\u001b[1;32m    969\u001b[0m             \u001b[0;32melse\u001b[0m\u001b[0;34m:\u001b[0m\u001b[0;34m\u001b[0m\u001b[0;34m\u001b[0m\u001b[0m\n\u001b[1;32m    970\u001b[0m               \u001b[0;32mraise\u001b[0m\u001b[0;34m\u001b[0m\u001b[0;34m\u001b[0m\u001b[0m\n",
            "\u001b[0;31mAssertionError\u001b[0m: in user code:\n\n    /usr/local/lib/python3.6/dist-packages/tensorflow/python/keras/engine/training.py:941 test_function  *\n        outputs = self.distribute_strategy.run(\n    /usr/local/lib/python3.6/dist-packages/tensorflow/python/distribute/distribute_lib.py:951 run  **\n        return self._extended.call_for_each_replica(fn, args=args, kwargs=kwargs)\n    /usr/local/lib/python3.6/dist-packages/tensorflow/python/distribute/distribute_lib.py:2290 call_for_each_replica\n        return self._call_for_each_replica(fn, args, kwargs)\n    /usr/local/lib/python3.6/dist-packages/tensorflow/python/distribute/distribute_lib.py:2649 _call_for_each_replica\n        return fn(*args, **kwargs)\n    /usr/local/lib/python3.6/dist-packages/tensorflow/python/keras/engine/training.py:909 test_step  **\n        y_pred = self(x, training=False)\n    /usr/local/lib/python3.6/dist-packages/tensorflow/python/keras/engine/base_layer.py:927 __call__\n        outputs = call_fn(cast_inputs, *args, **kwargs)\n    /usr/local/lib/python3.6/dist-packages/tensorflow/python/keras/engine/network.py:719 call\n        convert_kwargs_to_constants=base_layer_utils.call_context().saving)\n    /usr/local/lib/python3.6/dist-packages/tensorflow/python/keras/engine/network.py:899 _run_internal_graph\n        assert str(id(x)) in tensor_dict, 'Could not compute output ' + str(x)\n\n    AssertionError: Could not compute output Tensor(\"ctc/Identity:0\", shape=(None, 1), dtype=float32)\n"
          ]
        }
      ]
    }
  ]
}