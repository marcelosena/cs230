{
 "cells": [
  {
   "cell_type": "code",
   "execution_count": 13,
   "metadata": {},
   "outputs": [],
   "source": [
    "from utils.inputFinland import loadImgsWithLabels, DataGen\n",
    "from utils.BasicConfig import (BATCH_SIZE, IMGWIDTH, IMGHEIGHT, INVDICT,CHARDICT, DICTLENGTH, \n",
    "                               MAXCHARLENGTH, INPUTSHAPE, LOGDIR, SAVEDIR)\n",
    "\n",
    "\n",
    "import time\n",
    "import sys, os\n",
    "sys.path.append('/home/jonasmg/Documents/OCRProject/NeuralNet/')\n",
    "import numpy as np"
   ]
  },
  {
   "cell_type": "code",
   "execution_count": 25,
   "metadata": {},
   "outputs": [],
   "source": [
    "X, Y_label, Y_len,  N = loadImgsWithLabels(True)\n",
    "randomOrder = np.random.permutation(np.array(range(N)))\n",
    "X = X[randomOrder]\n",
    "Y_label = Y_label[randomOrder]\n",
    "\n",
    "Y_label = 1*(Y_label[:,0] != (CHARDICT[' ']))*(Y_label[:,0]  != (CHARDICT['-']))\n",
    "Y_label = Y_label.reshape((len(Y_label),1))\n"
   ]
  },
  {
   "cell_type": "code",
   "execution_count": 19,
   "metadata": {},
   "outputs": [
    {
     "name": "stdout",
     "output_type": "stream",
     "text": [
      "0 5692\n",
      "1 2611\n",
      "2 0\n",
      "3 0\n",
      "4 0\n",
      "5 0\n",
      "6 0\n",
      "7 0\n",
      "8 0\n",
      "9 0\n",
      "10 0\n",
      "11 0\n",
      "12 0\n",
      "13 0\n",
      "14 0\n"
     ]
    }
   ],
   "source": [
    "for k in range(15):\n",
    "    print(k,np.sum(Y_label[:] == k))"
   ]
  },
  {
   "cell_type": "code",
   "execution_count": 31,
   "metadata": {},
   "outputs": [
    {
     "data": {
      "text/plain": [
       "array([3560, 3338, 2902, ..., 3968, 1691,  169])"
      ]
     },
     "execution_count": 31,
     "metadata": {},
     "output_type": "execute_result"
    }
   ],
   "source": [
    "randomOrder"
   ]
  },
  {
   "cell_type": "raw",
   "metadata": {},
   "source": [
    "randomOrder = np.random.permutation(len(X))\n"
   ]
  }
 ],
 "metadata": {
  "kernelspec": {
   "display_name": "Python 3",
   "language": "python",
   "name": "python3"
  },
  "language_info": {
   "codemirror_mode": {
    "name": "ipython",
    "version": 3
   },
   "file_extension": ".py",
   "mimetype": "text/x-python",
   "name": "python",
   "nbconvert_exporter": "python",
   "pygments_lexer": "ipython3",
   "version": "3.8.2"
  }
 },
 "nbformat": 4,
 "nbformat_minor": 4
}
